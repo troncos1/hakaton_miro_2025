{
  "cells": [
    {
      "cell_type": "markdown",
      "metadata": {
        "id": "TB_rCpOX5yDi"
      },
      "source": [
        "# **Criptografía Cuántica**\n",
        "\n",
        "Este taller se enfocará en el famoso protocolo de criptografía cuántica \"BB84\", publicado por Charles Bennett y Gilles Brassard en 1984. El principal objetivo del protocolo es crear una clave secreta entre dos individuos, Alice y Bob, la que luego podran usar para encriptar y desencriptar un mensaje oculto.\n",
        "\n",
        "<img src=\"https://raw.githubusercontent.com/MIROptics/ECC2025/refs/heads/master/talleres/03_Criptografia_Cuantica/img/imag1.jpeg\" width=\"900\"/>\n",
        "\n",
        "Durante el taller, te guiaremos a través de los diferentes pasos del protocolo para crear dicha clave secreta que permita descifrar nuestro mensaje oculto.\n",
        "\n",
        "## Protocolo BB84\n",
        "\n",
        "Los pasos del protocolo son los siguientes:\n",
        "\n",
        "1. Primero, Alice elige dos cadenas de bit aleatorias, $k$ y $b$, donde cada una consta de $n$ bits. Su cadena de bits $k$ contiene los bits que ella desea codificar (con los cuales formará posteriormente la llave), mientras que $b$ determina las bases en la cual ella codificará sus bits. Entonces, para $b_i = 0$, ella codifica el i-ésimo qubit en la base Z o base computacional, por lo que si $k_i = 0$ el estado que ella envía es $|0\\rangle$, y si $k_i=1$, ella envía el estado $|1\\rangle $. Mientras que para $b_i=1$, ella codifica el i-ésimo qubit en la base X, por lo cual, para $k_i = 0$ ella envía $|+\\rangle$ y para $k_i=1$, ella envía $|-\\rangle$.\n",
        "\n",
        "Para hacerlo más ilustrativo, representamos cada base con dos flechas perpendiculares de la siguiente forma\n",
        "\n",
        "<img src=\"https://raw.githubusercontent.com/MIROptics/ECC2025/refs/heads/master/talleres/03_Criptografia_Cuantica/img/imag2.jpeg\" width=\"800\"/>\n",
        "\n",
        "2. Una vez que Alice termina de codificar sus $n$ qubits, ella los envía a Bob. Por el lado de Bob, este también elige una cadena aleatoria de bits $\\tilde{b}$ formada de $n$ bits que determina en qué bases va a realizar sus medidas. Él almacena los resultados de sus mediciones $\\tilde{k}_i$ en una tabla juntos con los correspondientes bits $\\tilde{b}_i$.\n",
        "\n",
        "3. Por último, Alice y Bob comparan sus bits $b_i $ y $\\tilde{b}_i$, con los que escogieron sus respectivas bases. Siempre que $b_i \\neq \\tilde{b}_i$, Bob midió en una base distinta a la que Alice codificó su qubit, por lo que obtiene cada resultado con probabilidad $\\frac{1}{2}$. Sin embargo, si $b_i = \\tilde{b}_i$, prepararon y midieron el qubit en la misma base, por lo que (a menos que alguien haya espiado) Bob obtendrá los bits de la clave que Alice codificó, $\\tilde{k}_i = k_i$. Estos bits son los que componen entonces la clave.\n",
        "\n",
        "En resumen, BB84 se puede ejemplicar de la siguiente manera\n",
        "\n",
        "<img src=\"https://raw.githubusercontent.com/MIROptics/ECC2025/refs/heads/master/talleres/03_Criptografia_Cuantica/img/imag3.jpeg\" width=\"800\"/>\n",
        "\n",
        "## **Ejercicio 1: BB84 ideal**\n",
        "\n",
        "En primer lugar, veremos cómo el protocolo funciona cuando no hay nadie interceptando el mensaje entre Alice y Bob. Luego, veremos cómo ellos pueden detectar la presencia de este espía malicioso.\n",
        "\n",
        "Como siempre, comenzaremos importando los módulos que necesitaremos durante el tutorial"
      ]
    },
    {
      "cell_type": "code",
      "execution_count": 1,
      "metadata": {
        "colab": {
          "base_uri": "https://localhost:8080/"
        },
        "id": "KbjOk_7H66rt",
        "outputId": "353689db-159e-4a0a-94eb-8e60dcce96fb"
      },
      "outputs": [],
      "source": [
        "# pip install git+https://github.com/MIROptics/ECC2025.git"
      ]
    },
    {
      "cell_type": "code",
      "execution_count": 2,
      "metadata": {
        "id": "_xtq66OH5yDk"
      },
      "outputs": [],
      "source": [
        "#  Importamos los módulos que necesitaremos para realizar el ejercicio\n",
        "from qiskit_aer import Aer\n",
        "from qiskit import QuantumCircuit\n",
        "from qiskit.visualization import plot_histogram\n",
        "from numpy.random import randint\n",
        "import numpy as np"
      ]
    },
    {
      "cell_type": "markdown",
      "metadata": {
        "id": "Pz8IDtTh5yDl"
      },
      "source": [
        "## Paso 1\n",
        "\n",
        "Alice primero debe generar de forma aleatoria sus cadenas de bits $k$ y $b$, a las que llamaremos `alice_bits` y `alice_bases`, respectivamente. Para esto, utilizamos la función `randint` de numpy para generar claves pseudo aleatorias"
      ]
    },
    {
      "cell_type": "code",
      "execution_count": 3,
      "metadata": {
        "colab": {
          "base_uri": "https://localhost:8080/"
        },
        "id": "SvtxMenR5yDl",
        "outputId": "0949e1b2-4cd0-475c-b6cd-26cc6978655c"
      },
      "outputs": [
        {
          "name": "stdout",
          "output_type": "stream",
          "text": [
            "[1 0 0 1 0 0 0 1 1 0 1 0 0 0 0 0 1 0 1 0 1 1 1 1 1 0 1 1 1 1 0 1 1 0 0 1 0\n",
            " 0 0 0 1 1 0 0 1 0 1 1 1 1 0 0 0 1 0 1 1 1 0 1 0 0 1 0 1 1 0 0 1 0 1 0 1 0\n",
            " 1 0 1 0 0 0 1 0 1 0 1 0 0 0 0 0 1 0 0 1 0 0 0 1 0 0]\n"
          ]
        }
      ],
      "source": [
        "# Inicializamos una distribución aleatoria\n",
        "np.random.seed(seed=0)\n",
        "\n",
        "n = 100  # Largo de la cadena de bits\n",
        "\n",
        "#  Generamos la cadena de bits aleatorios k de Alice\n",
        "alice_bits = randint(2, size=n)\n",
        "\n",
        "#  Generamos la cadena de bit aleatorios b de Alice\n",
        "alice_bases = randint(2, size=n)\n",
        "\n",
        "print(alice_bases)"
      ]
    },
    {
      "cell_type": "markdown",
      "metadata": {
        "id": "tOuGSYKd5yDl"
      },
      "source": [
        "## Paso 2\n",
        "\n",
        "A continuación deberás completar la función `alice_prepare_qubit` que crea una lista `qubit`, donde cada elemento es un circuito representando el qubit que es enviado por alice. Las entradas de esta función son `a_bits` correspondientes a los bits que codifica Alice y `a_bases`, con la cadena de bits con que Alice prepara las bases.\n",
        "\n",
        "**HINT:** Recuerda que si el bit en `a_bases` es `0`, implica preparar el estado en la base $Z$, mientras que si es `1`, Alice prepara el estado en la base $X$."
      ]
    },
    {
      "cell_type": "code",
      "execution_count": 4,
      "metadata": {
        "id": "ABQVZbIC5yDm"
      },
      "outputs": [],
      "source": [
        "def alice_prepare_qubit(a_bits, a_bases):\n",
        "    '''\n",
        "    Inputs:\n",
        "        a_bits  (list) : bit string k\n",
        "        a_bases (list): bit string b\n",
        "    Outputs:\n",
        "        qubit   (list): contains the circuit that generates each Alice's\n",
        "                state according k and b.\n",
        "    '''\n",
        "    qubit = []\n",
        "    for i in range(0, n):\n",
        "        qc = QuantumCircuit(1,1)\n",
        "    # ------------------------------------------------\n",
        "        # Prepara los qubits en la base Z\n",
        "        if a_bases[i] == 0:\n",
        "            if a_bits[i] == 0:\n",
        "                pass # estado |0>\n",
        "            else:\n",
        "                qc.x(0) # estado |1>\n",
        "        # Prepara los qubits en la base X\n",
        "        else:\n",
        "            if a_bits[i] == 0:\n",
        "                qc.h(0)\n",
        "            else:\n",
        "                qc.x(0)\n",
        "                qc.h(0)\n",
        " \n",
        "    # ------------------------------------------------\n",
        "        qc.barrier()\n",
        "        qubit.append(qc)\n",
        "    return qubit"
      ]
    },
    {
      "cell_type": "code",
      "execution_count": 5,
      "metadata": {
        "id": "zq5ayZaf5yDm"
      },
      "outputs": [],
      "source": [
        "#Aplicamos la función recien creada a todos los bits aleatorios de Alice\n",
        "protocol = alice_prepare_qubit(alice_bits, alice_bases)"
      ]
    },
    {
      "cell_type": "markdown",
      "metadata": {
        "id": "SlAzLDAk5yDm"
      },
      "source": [
        "Notemos que el primer bit en `alice_bits` es `0`, y se codifica en la base $X$, por lo que el circuito del protocolo se ve de la siguiente manera"
      ]
    },
    {
      "cell_type": "code",
      "execution_count": 6,
      "metadata": {
        "colab": {
          "base_uri": "https://localhost:8080/",
          "height": 226
        },
        "id": "EJDPlMlQ5yDm",
        "outputId": "4c98aec8-9876-4a8f-b301-99cfb075ad25"
      },
      "outputs": [
        {
          "name": "stdout",
          "output_type": "stream",
          "text": [
            "bit = 0\n",
            "basis = 1\n"
          ]
        },
        {
          "data": {
            "image/png": "[encoded data removed]",
            "text/plain": [
              "<Figure size 269.064x200.667 with 1 Axes>"
            ]
          },
          "execution_count": 6,
          "metadata": {},
          "output_type": "execute_result"
        }
      ],
      "source": [
        "print('bit = %i' % alice_bits[0])\n",
        "print('basis = %i' % alice_bases[0])\n",
        "protocol[0].draw(output='mpl')"
      ]
    },
    {
      "cell_type": "markdown",
      "metadata": {
        "id": "xS2HJkB_5yDm"
      },
      "source": [
        "Como otro ejemplo, podemos ver"
      ]
    },
    {
      "cell_type": "code",
      "execution_count": 7,
      "metadata": {
        "colab": {
          "base_uri": "https://localhost:8080/",
          "height": 226
        },
        "id": "HXoCFibU5yDn",
        "outputId": "e9110441-8f6f-45e5-d744-142413d4e7c2"
      },
      "outputs": [
        {
          "name": "stdout",
          "output_type": "stream",
          "text": [
            "bit = 1\n",
            "basis = 0\n"
          ]
        },
        {
          "data": {
            "image/png": "[encoded data removed]",
            "text/plain": [
              "<Figure size 269.064x200.667 with 1 Axes>"
            ]
          },
          "execution_count": 7,
          "metadata": {},
          "output_type": "execute_result"
        }
      ],
      "source": [
        "bit_index = 4\n",
        "print('bit = %i' % alice_bits[bit_index])\n",
        "print('basis = %i' % alice_bases[bit_index])\n",
        "protocol[bit_index].draw(output='mpl')"
      ]
    },
    {
      "cell_type": "markdown",
      "metadata": {
        "id": "5j4E7q7b5yDn"
      },
      "source": [
        "## Paso 3\n",
        "\n",
        "Generamos una cadena aleatoria $\\tilde{b}$ para Bob que llamaremos `bob_bases` y que determinará en qué base realizará su medida"
      ]
    },
    {
      "cell_type": "code",
      "execution_count": 8,
      "metadata": {
        "colab": {
          "base_uri": "https://localhost:8080/"
        },
        "id": "Azfjr3Ep5yDn",
        "outputId": "17bfd047-973c-44af-e49d-5522dcf42f27"
      },
      "outputs": [
        {
          "name": "stdout",
          "output_type": "stream",
          "text": [
            "[1 0 1 0 0 1 1 0 0 0 1 1 0 0 0 0 0 1 0 1 0 0 0 1 1 1 0 0 1 1 1 1 0 0 0 1 1\n",
            " 0 1 0 0 1 0 1 1 1 1 0 0 0 1 1 1 0 1 1 1 1 0 0 1 1 0 0 0 1 1 0 1 1 1 1 1 0\n",
            " 0 0 1 0 1 0 1 1 0 0 0 1 0 0 1 1 1 1 0 1 0 0 0 0 1 1]\n"
          ]
        }
      ],
      "source": [
        "#  Generamos la cadena de bit aleatorios b tilde de Bob\n",
        "bob_bases = randint(2, size=n)\n",
        "\n",
        "print(bob_bases)"
      ]
    },
    {
      "cell_type": "markdown",
      "metadata": {
        "id": "I0csuMrl5yDn"
      },
      "source": [
        "Ahora deberás completar la función `measure_qubit` que aplica la medida de Bob a través de una simulación y almacena los resultados en la lista `measurements`."
      ]
    },
    {
      "cell_type": "code",
      "execution_count": 9,
      "metadata": {
        "id": "aRSV8DeJ5yDn"
      },
      "outputs": [],
      "source": [
        "def measure_qubit(circuit, bases):\n",
        "    '''\n",
        "    Inputs:\n",
        "        circuit      (list) : contains the qubits sent by Alice\n",
        "        bases        (list) : bit string b tilde\n",
        "    Outputs:\n",
        "        measurements (list) : bit string k tilde\n",
        "    '''\n",
        "    measurements = []\n",
        "    for i in range(n):\n",
        "# ------------------------------------------------\n",
        "        if bases[i] == 0:\n",
        "            pass\n",
        "        else:\n",
        "            circuit[i].h(0)\n",
        "            \n",
        "        circuit[i].measure(0,0)\n",
        "# ------------------------------------------------\n",
        "        aer_sim = Aer.get_backend('aer_simulator')\n",
        "        result = aer_sim.run(circuit[i], shots=1024, memory=True).result() # memory true obtiene lista binaria en vez de conteo en diccionario\n",
        "        measured_bit = int(result.get_memory()[0])\n",
        "        measurements.append(measured_bit)\n",
        "    return measurements"
      ]
    },
    {
      "cell_type": "markdown",
      "metadata": {
        "id": "At7JC3TQ5yDn"
      },
      "source": [
        "Al aplicar la función, obtenemos el siguiente circuito"
      ]
    },
    {
      "cell_type": "code",
      "execution_count": 10,
      "metadata": {
        "id": "FB1JY0TK5yDn"
      },
      "outputs": [],
      "source": [
        "#Medicion de Bob\n",
        "bob_results = measure_qubit(protocol, bob_bases)"
      ]
    },
    {
      "cell_type": "code",
      "execution_count": 11,
      "metadata": {
        "colab": {
          "base_uri": "https://localhost:8080/",
          "height": 620
        },
        "id": "zAaB6-DH5yDn",
        "outputId": "96d13ebb-239a-4ad5-ae81-57502bf3d3fb"
      },
      "outputs": [
        {
          "name": "stdout",
          "output_type": "stream",
          "text": [
            "base = 1\n"
          ]
        },
        {
          "data": {
            "image/png": "[encoded data removed]",
            "text/plain": [
              "<Figure size 436.286x200.667 with 1 Axes>"
            ]
          },
          "metadata": {},
          "output_type": "display_data"
        },
        {
          "data": {
            "image/png": "[encoded data removed]",
            "text/plain": [
              "<Figure size 640x480 with 1 Axes>"
            ]
          },
          "execution_count": 11,
          "metadata": {},
          "output_type": "execute_result"
        }
      ],
      "source": [
        "print(\"base = \" + str(bob_bases[0]))\n",
        "display(protocol[0].draw(output='mpl'))\n",
        "aer_sim = Aer.get_backend('aer_simulator')\n",
        "job = aer_sim.run(protocol[0])\n",
        "plot_histogram(job.result().get_counts())\n"
      ]
    },
    {
      "cell_type": "markdown",
      "metadata": {
        "id": "cACfrLV45yDo"
      },
      "source": [
        "Como Bob elegió la misma base que Alice, aseguramos que obtiene el resultado `0`. Sin embargo, pudo haber pasado que la elección aleatoria de Bob no fuese la misma de Alice, por lo que Bob tendría un $50 \\%$ de coincidir con el bit que quiso enviar Alice, como es en el siguiente caso"
      ]
    },
    {
      "cell_type": "code",
      "execution_count": 12,
      "metadata": {
        "colab": {
          "base_uri": "https://localhost:8080/",
          "height": 638
        },
        "id": "jLDOAHqI5yDo",
        "outputId": "60ffcd32-6dc6-42f3-d6b4-42ce6496c23e"
      },
      "outputs": [
        {
          "name": "stdout",
          "output_type": "stream",
          "text": [
            "base de Alice = 0\n",
            "base de Bob = 1\n"
          ]
        },
        {
          "data": {
            "image/png": "[encoded data removed]",
            "text/plain": [
              "<Figure size 436.286x200.667 with 1 Axes>"
            ]
          },
          "metadata": {},
          "output_type": "display_data"
        },
        {
          "data": {
            "image/png": "[encoded data removed]",
            "text/plain": [
              "<Figure size 640x480 with 1 Axes>"
            ]
          },
          "execution_count": 12,
          "metadata": {},
          "output_type": "execute_result"
        }
      ],
      "source": [
        "bit_index = 6\n",
        "protocol[bit_index].draw(output='mpl')\n",
        "aer_sim = Aer.get_backend('aer_simulator')\n",
        "print(\"base de Alice = \" + str(alice_bases[bit_index]))\n",
        "print(\"base de Bob = \" + str(bob_bases[bit_index]))\n",
        "display(protocol[bit_index].draw(output='mpl'))\n",
        "job = aer_sim.run(protocol[bit_index])\n",
        "plot_histogram(job.result().get_counts())"
      ]
    },
    {
      "cell_type": "markdown",
      "metadata": {
        "id": "3hOBIV7V5yDo"
      },
      "source": [
        "## Paso 4\n",
        "\n",
        "Alice hace público las bases en que codificó sus qubits y Bob revela en qué base los midió. Deberás completar la función `remove_garbage` que descartará los bits cuando no se cumple $b_i = \\tilde{b}_i$. En el caso que la última condición sí se cumpla, deberás añadir los bits a la lista `good_bits`"
      ]
    },
    {
      "cell_type": "code",
      "execution_count": 13,
      "metadata": {
        "id": "A3S2sjqi5yDo"
      },
      "outputs": [],
      "source": [
        "def remove_garbage(a_bases, b_bases, bits):\n",
        "    '''\n",
        "    Inputs:\n",
        "        a_bases   (list) : bit string b\n",
        "        b_bases   (list) : bit string b tilde\n",
        "        bits      (list) : bits that we keep or discard\n",
        "    Outputs:\n",
        "        good_bits (list): contains the bits we keep\n",
        "    '''\n",
        "    good_bits = []\n",
        "#--------------------------------------------------------\n",
        "    for i, (a, b) in enumerate(zip(a_bases, b_bases)):\n",
        "        if a == b: \n",
        "            good_bits.append(int(bits[i]))\n",
        "#--------------------------------------------------------\n",
        "    return good_bits"
      ]
    },
    {
      "cell_type": "markdown",
      "metadata": {
        "id": "LCfc6cUy5yDo"
      },
      "source": [
        "De esta forma, Alice y Bob descartan los bits que no utilizarán, quedando así los bits que formarán parte de la clave secreta"
      ]
    },
    {
      "cell_type": "code",
      "execution_count": 14,
      "metadata": {
        "colab": {
          "base_uri": "https://localhost:8080/"
        },
        "id": "HL1ZG1Rc5yDo",
        "outputId": "88d87410-3203-4479-8f28-2fc27066d028"
      },
      "outputs": [
        {
          "name": "stdout",
          "output_type": "stream",
          "text": [
            "[0, 1, 1, 1, 1, 0, 1, 0, 0, 0, 0, 1, 0, 0, 0, 1, 1, 1, 0, 1, 0, 1, 1, 0, 1, 0, 0, 0, 0, 0, 0, 1, 0, 0, 1, 1, 0, 0, 0, 1, 1, 1, 1, 0, 0, 1, 0, 0]\n",
            "[0, 1, 1, 1, 1, 0, 1, 0, 0, 0, 0, 1, 0, 0, 0, 1, 1, 1, 0, 1, 0, 1, 1, 0, 1, 0, 0, 0, 0, 0, 0, 1, 0, 0, 1, 1, 0, 0, 0, 1, 1, 1, 1, 0, 0, 1, 0, 0]\n"
          ]
        }
      ],
      "source": [
        "#Alice y Bob remueven los qubit que no se van a utilizar\n",
        "alice_key = remove_garbage(alice_bases, bob_bases, alice_bits)\n",
        "print(alice_key)\n",
        "\n",
        "bob_key = remove_garbage(alice_bases, bob_bases, bob_results)\n",
        "print(bob_key)"
      ]
    },
    {
      "cell_type": "markdown",
      "metadata": {
        "id": "v-Pj7MqP5yDo"
      },
      "source": [
        "## Paso 5\n",
        "\n",
        "Parte de la clave secreta de Alice y Bob se utilizan para verificar si comparten la misma cadena de bits. Para hacer esta comparación, utilizamos la función `sample_bits` con la que extraemos aleatoriamente un número de bits de la clave, que indicamos en `selection`"
      ]
    },
    {
      "cell_type": "code",
      "execution_count": 15,
      "metadata": {
        "id": "hfL4zf5Y5yDo"
      },
      "outputs": [],
      "source": [
        "def sample_bits(bits, selection):\n",
        "    '''\n",
        "    Inputs:\n",
        "        bits      (list) : bit string\n",
        "        selection (list) : bits that we select from the list \"bits\"\n",
        "    Outputs:\n",
        "        sample    (list) : sample bits to compare\n",
        "    '''\n",
        "    sample = []\n",
        "    for i in selection:\n",
        "        # usamos np.mod para asegurarnos que el bit que escibimos siempre\n",
        "        # esté en la lista de rango:\n",
        "        i = np.mod(i,len(bits))\n",
        "        # pop(i) elimina el elemento de la lista con índice i\n",
        "        sample.append(bits.pop(i))\n",
        "    return sample"
      ]
    },
    {
      "cell_type": "markdown",
      "metadata": {
        "id": "gYR0EIL95yDo"
      },
      "source": [
        "Notar que Alice y Bob hacen pública esta muestra, pero como los bits ya no son secretos, no serán parte de la clave"
      ]
    },
    {
      "cell_type": "code",
      "execution_count": 16,
      "metadata": {
        "colab": {
          "base_uri": "https://localhost:8080/"
        },
        "id": "8tyj5NSS5yDo",
        "outputId": "b5e0253f-df96-4784-aaf1-7b4c7cb45cfc"
      },
      "outputs": [
        {
          "name": "stdout",
          "output_type": "stream",
          "text": [
            "  bob_sample = [0, 0, 1, 1, 0, 1, 0, 0, 0, 1, 0, 0, 0, 0, 0]\n",
            "alice_sample = [0, 0, 1, 1, 0, 1, 0, 0, 0, 1, 0, 0, 0, 0, 0]\n"
          ]
        }
      ],
      "source": [
        "# Alice y Bob comparan algunos bits para corroborar de que el protocolo funcionó\n",
        "\n",
        "# Tamaño de la muestra\n",
        "sample_size = 15\n",
        "\n",
        "# Bits a seleccionar\n",
        "bit_selection = randint(len(alice_key), size = sample_size)\n",
        "\n",
        "# Definimos la muestra\n",
        "bob_sample = sample_bits(bob_key, bit_selection)\n",
        "alice_sample = sample_bits(alice_key, bit_selection)\n",
        "\n",
        "print(\"  bob_sample = \" + str(bob_sample))\n",
        "print(\"alice_sample = \"+ str(alice_sample))"
      ]
    },
    {
      "cell_type": "markdown",
      "metadata": {
        "id": "bILKQdyU5yDo"
      },
      "source": [
        "Si el protocolo funcionó correctamente sin ninguna interferencia, las muestras (samples) de Alice y Bob deberían coincidir, por lo que la siguiente línea debería entegarnos el valor lógico `True`"
      ]
    },
    {
      "cell_type": "code",
      "execution_count": 17,
      "metadata": {
        "colab": {
          "base_uri": "https://localhost:8080/"
        },
        "id": "_wyE2GOr5yDp",
        "outputId": "fef43622-0653-4a99-f329-024b0651b008"
      },
      "outputs": [
        {
          "data": {
            "text/plain": [
              "True"
            ]
          },
          "execution_count": 17,
          "metadata": {},
          "output_type": "execute_result"
        }
      ],
      "source": [
        "bob_sample == alice_sample"
      ]
    },
    {
      "cell_type": "markdown",
      "metadata": {
        "id": "44myDxir5yDp"
      },
      "source": [
        "Si la anterior condición se cumplió, significa que (con alta probabilidad) `alice_key == bob_key`. De esta forma, Alice y Bob comparten una clave secreta que pueden usar para encriptar y desencriptar mensajes."
      ]
    },
    {
      "cell_type": "code",
      "execution_count": 18,
      "metadata": {
        "colab": {
          "base_uri": "https://localhost:8080/"
        },
        "id": "TPMT8biS5yDp",
        "outputId": "8eed0944-108e-4f6a-adca-1cbc5e9e844c"
      },
      "outputs": [
        {
          "name": "stdout",
          "output_type": "stream",
          "text": [
            "[1, 1, 1, 1, 0, 0, 1, 0, 0, 1, 1, 1, 0, 1, 0, 1, 0, 0, 0, 1, 0, 0, 1, 1, 0, 0, 1, 1, 1, 0, 0, 1, 0]\n",
            "[1, 1, 1, 1, 0, 0, 1, 0, 0, 1, 1, 1, 0, 1, 0, 1, 0, 0, 0, 1, 0, 0, 1, 1, 0, 0, 1, 1, 1, 0, 0, 1, 0]\n",
            "El largo de la llave es 33\n"
          ]
        }
      ],
      "source": [
        "print(bob_key)\n",
        "print(alice_key)\n",
        "print(\"El largo de la llave es %i\" % len(alice_key))"
      ]
    },
    {
      "cell_type": "markdown",
      "metadata": {
        "id": "lieuaOFC5yDp"
      },
      "source": [
        "# **Ejercicio 2: Eve al ataque**"
      ]
    },
    {
      "cell_type": "markdown",
      "metadata": {
        "id": "GKJGlYnP5yDp"
      },
      "source": [
        "Veamos ahora cómo Alice y Bob pueden saber si un espía malicioso, que llamaremos Eve, ha estado intentando interceptar su mensaje. Luego que Alice realice el paso 1 y 2, y antes que que Bob reciba los qubits, Eve intentará extraer información de ellos. Establezcamos una semilla diferente para obtener un conjunto específico de resultados \"aleatorios\" reproducibles\n",
        "\n",
        "## Paso 1 y 2\n",
        "\n",
        "Al igual que en el ejercicio anterior, Alice genera dos cadenas de bits aletorias con las que prepara los qubits"
      ]
    },
    {
      "cell_type": "code",
      "execution_count": 19,
      "metadata": {
        "id": "V-0I_IwT5yDp"
      },
      "outputs": [],
      "source": [
        "np.random.seed(seed=3)\n",
        "alice_bits = randint(2, size= n)\n",
        "alice_bases = randint(2, size= n)\n",
        "protocol = alice_prepare_qubit(alice_bits, alice_bases)"
      ]
    },
    {
      "cell_type": "markdown",
      "metadata": {
        "id": "y9FIu09M5yDp"
      },
      "source": [
        "En este caso, el primer qubit que Alice envía está en el estado $|+\\rangle$"
      ]
    },
    {
      "cell_type": "code",
      "execution_count": 20,
      "metadata": {
        "colab": {
          "base_uri": "https://localhost:8080/",
          "height": 191
        },
        "id": "k7W9avzs5yDp",
        "outputId": "a9aed42d-a6bb-48ee-c8fb-95ec3536959a"
      },
      "outputs": [
        {
          "name": "stdout",
          "output_type": "stream",
          "text": [
            "Base de Alice:  1\n",
            "Bit de Alice:  0\n"
          ]
        },
        {
          "data": {
            "image/png": "[encoded data removed]",
            "text/plain": [
              "<Figure size 269.064x200.667 with 1 Axes>"
            ]
          },
          "execution_count": 20,
          "metadata": {},
          "output_type": "execute_result"
        }
      ],
      "source": [
        "print(\"Base de Alice: \", alice_bases[0])\n",
        "print(\"Bit de Alice: \", alice_bits[0])\n",
        "protocol[0].draw(output=\"mpl\")"
      ]
    },
    {
      "cell_type": "markdown",
      "metadata": {
        "id": "_VlfoSi-5yDq"
      },
      "source": [
        "### ¡Ataque!\n",
        "\n",
        "Eve intercepta los qubits que Alice envía públicamente y los mide con una selección aleatoria de bases, de la misma manera que Bob lo hará más adelante."
      ]
    },
    {
      "cell_type": "code",
      "execution_count": 21,
      "metadata": {
        "colab": {
          "base_uri": "https://localhost:8080/"
        },
        "id": "te8fvSct5yDq",
        "outputId": "272494a9-bade-4e0b-d9c1-4bc210782d73"
      },
      "outputs": [
        {
          "name": "stdout",
          "output_type": "stream",
          "text": [
            "[1, 1, 1, 1, 0, 0, 1, 0, 1, 1, 0, 1, 1, 1, 0, 1, 1, 0, 0, 0, 1, 1, 1, 0, 0, 1, 1, 0, 1, 0, 0, 1, 1, 1, 1, 0, 0, 0, 0, 1, 1, 0, 0, 1, 1, 0, 0, 0, 1, 1, 0, 1, 1, 0, 0, 0, 0, 1, 0, 0, 0, 1, 0, 0, 0, 1, 0, 1, 0, 1, 1, 0, 1, 1, 0, 0, 1, 0, 1, 0, 1, 0, 0, 1, 0, 1, 0, 1, 0, 0, 1, 0, 1, 0, 0, 0, 1, 0, 1, 1]\n"
          ]
        }
      ],
      "source": [
        "# Generamos la cadena bits aleatorios de Eve\n",
        "eve_bases = randint(2, size=100)\n",
        "\n",
        "# Eve mide sujeto a eve_bases\n",
        "intercepted_message = measure_qubit(protocol, eve_bases)\n",
        "\n",
        "print(intercepted_message)"
      ]
    },
    {
      "cell_type": "markdown",
      "metadata": {
        "id": "EoFQrhqg5yDu"
      },
      "source": [
        "Podemos ver que para el primer qubit la elección aleatoria de base de Eve no es la misma que la de Alice, y esto cambiará el estado del qubit de $|+\\rangle$, a un estado aleatorio en la base $Z$, con $50 \\%$ de probabilidad que sea $|0\\rangle$ ó $|1\\rangle$."
      ]
    },
    {
      "cell_type": "code",
      "execution_count": 22,
      "metadata": {
        "colab": {
          "base_uri": "https://localhost:8080/",
          "height": 191
        },
        "id": "7QcoF9a25yDv",
        "outputId": "d6dab247-296b-462a-87bf-2ae7868137d0"
      },
      "outputs": [
        {
          "name": "stdout",
          "output_type": "stream",
          "text": [
            "Base de Eve:  0\n"
          ]
        },
        {
          "data": {
            "image/png": "[encoded data removed]",
            "text/plain": [
              "<Figure size 352.675x200.667 with 1 Axes>"
            ]
          },
          "execution_count": 22,
          "metadata": {},
          "output_type": "execute_result"
        }
      ],
      "source": [
        "print(\"Base de Eve: \", eve_bases[0])\n",
        "protocol[0].draw(output=\"mpl\")"
      ]
    },
    {
      "cell_type": "markdown",
      "metadata": {
        "id": "qxgI2N_f5yDv"
      },
      "source": [
        "## Paso 3\n",
        "\n",
        "Eve genera un qubit en su base y se lo envía a Bob para que lo mida. En este caso, Bob eligió (por casualidad) medir con la misma base en la que Alice preparó el qubit. Sin la intervención de Eve, se garantizaría que Bob mide 0, pero debido a que Eve intentó leer el mensaje, ahora tiene un $50 \\% $ de probabilidades de medir 1."
      ]
    },
    {
      "cell_type": "code",
      "execution_count": 23,
      "metadata": {
        "colab": {
          "base_uri": "https://localhost:8080/",
          "height": 603
        },
        "id": "4UcG51HF5yDv",
        "outputId": "285cbfdd-3c84-441f-9b2d-b13c163d921d"
      },
      "outputs": [
        {
          "name": "stdout",
          "output_type": "stream",
          "text": [
            "Base de Bob:  1\n"
          ]
        },
        {
          "data": {
            "image/png": "[encoded data removed]",
            "text/plain": [
              "<Figure size 519.897x200.667 with 1 Axes>"
            ]
          },
          "metadata": {},
          "output_type": "display_data"
        },
        {
          "data": {
            "image/png": "[encoded data removed]",
            "text/plain": [
              "<Figure size 640x480 with 1 Axes>"
            ]
          },
          "execution_count": 23,
          "metadata": {},
          "output_type": "execute_result"
        }
      ],
      "source": [
        "bob_bases = randint(2, size = n)\n",
        "print(\"Base de Bob: \", bob_bases[0])\n",
        "bob_results = measure_qubit(protocol, bob_bases)\n",
        "display(protocol[0].draw(output=\"mpl\"))\n",
        "aer_sim = Aer.get_backend('aer_simulator')\n",
        "job = aer_sim.run(protocol[0])\n",
        "plot_histogram(job.result().get_counts())"
      ]
    },
    {
      "cell_type": "markdown",
      "metadata": {
        "id": "z0zF_AhJ5yDv"
      },
      "source": [
        "## Paso 4\n",
        "\n",
        "Bob y Alice revelan las bases que seleccionaron y descartan los bits que no usaran"
      ]
    },
    {
      "cell_type": "code",
      "execution_count": 24,
      "metadata": {
        "id": "j5ef2j255yDv"
      },
      "outputs": [],
      "source": [
        "bob_key = remove_garbage(alice_bases, bob_bases, bob_results)\n",
        "alice_key = remove_garbage(alice_bases, bob_bases, alice_bits)"
      ]
    },
    {
      "cell_type": "markdown",
      "metadata": {
        "id": "XyZMqash5yDw"
      },
      "source": [
        "## Paso 5\n",
        "\n",
        "Bob y Alice comparan la misma selección aleatoria de sus claves para ver si su mensaje fue interceptado"
      ]
    },
    {
      "cell_type": "code",
      "execution_count": 25,
      "metadata": {
        "colab": {
          "base_uri": "https://localhost:8080/"
        },
        "id": "Udlp202P5yDw",
        "outputId": "ed098a03-4ae5-4e70-ec6e-25440a5ef6bc"
      },
      "outputs": [
        {
          "name": "stdout",
          "output_type": "stream",
          "text": [
            "  bob_sample = [0, 1, 1, 0, 0, 0, 1, 0, 1, 1, 1, 0, 0, 0, 0]\n",
            "alice_sample = [1, 1, 1, 0, 0, 0, 0, 0, 0, 0, 0, 0, 0, 0, 0]\n",
            "Is alice_key equal to bob_key? False\n"
          ]
        }
      ],
      "source": [
        "sample_size = 15\n",
        "bit_selection = randint(len(alice_key), size=sample_size)\n",
        "bob_sample = sample_bits(bob_key, bit_selection)\n",
        "alice_sample = sample_bits(alice_key, bit_selection)\n",
        "\n",
        "print(\"  bob_sample = \" + str(bob_sample))\n",
        "print(\"alice_sample = \"+ str(alice_sample))\n",
        "print(\"Is alice_key equal to bob_key? \" + str(bob_sample == alice_sample))"
      ]
    },
    {
      "cell_type": "markdown",
      "metadata": {
        "id": "qx74w-JQ5yDw"
      },
      "source": [
        "¡La clave de Bob y Alice no coinciden! Sabemos que esto es porque Eve intentó obtener información de clave entre el paso 2 y 3, lo que cambió los estados de los qubits. Sin embargo, Alice y Bob podrían pensar que se debió al ruido en el medio que enviaron los qubits. De todas maneras, ellos descartarán esta clave y repetirán el protocolo de nuevo. El intento de intercepción de Eve ha fallado.\n",
        "\n",
        "\n",
        "# **Análisis del Riesgo**\n",
        "\n",
        "Para este tipo de intercepción, en el cual Eve mide todos los qubits, hay una pequeña posibilidad de que la muestra (sample) de Alice y Bob coincidad, y que Alice envié su mensaje con la presencia del espía malicioso, Eve. Vamos a calcular esta posibilidad y ver cuán arriesgado es hacer distribución de claves cuánticas.\n",
        "\n",
        "<img src=\"https://raw.githubusercontent.com/MIROptics/ECC2025/refs/heads/master/talleres/03_Criptografia_Cuantica/img/imag4.jpeg\" width=\"900\"/>\n",
        "\n",
        "Si Alice y Bob utilizan 1 bit para la muestra, la probabildad de que sus claves coincidan en presencia de un espía es igual a $0.75$. Si comparan 2 bits, la probabilidad decrece a $0.75^2 = 0.5625$. Podemos ver que la probabilidad de que Eve pase desapercibida decrece a medida que Alice y Bob aumentan el largo de su muestra, tal que\n",
        "\n",
        "$ P_\\text{indetectada} = 0.75^f$\n",
        "\n",
        "donde $f$ es el largo de la muestra.\n",
        "\n",
        "Si decidimos comparar 15 bits como hicimos anteriormente, hay un $1.3\\%$ de posibilidades de que Eve no sea detectada. Si esto nos parece demasiado arriesgado, podríamos comparar 50 bits en su lugar, y tendríamos un $0.00006\\%$ de posibilidades de ser espiados sin saberlo."
      ]
    },
    {
      "cell_type": "markdown",
      "metadata": {
        "id": "dQC66QTu5yDw"
      },
      "source": [
        "# **Encriptación del Mensaje**\n",
        "\n",
        "Una vez que la clave fue distribuida, Alice puede encriptar su mensaje usando la técnica one-time pad: ella simplemente suma los bits de la clave con los que ella quiere enviar. Por lo que si ella posee una clave $c$ y su mensaje lo codifica en una cadena de bits $m$, el mensaje encriptado será $e = m \\oplus c \\; \\text{mod} \\; 2$. Bob podrá desencriptar el mensaje añadiendo su clave al mensaje encriptado, tal que $m = e \\oplus c \\; \\text{mod} \\; 2$."
      ]
    },
    {
      "cell_type": "markdown",
      "metadata": {},
      "source": [
        "# **Protocolo Completo**"
      ]
    },
    {
      "cell_type": "code",
      "execution_count": 28,
      "metadata": {
        "id": "DSRa_JFe5yDw",
        "outputId": "23d82776-cfb0-4e9c-f78f-b55767ab631b"
      },
      "outputs": [
        {
          "name": "stdout",
          "output_type": "stream",
          "text": [
            "La interferencia de Eve fue detectada.\n"
          ]
        }
      ],
      "source": [
        "np.random.seed(seed=4)\n",
        "n = 100\n",
        "# Paso 1\n",
        "alice_bits = randint(2, size=n)\n",
        "alice_bases = randint(2, size=n)\n",
        "# Paso 2\n",
        "protocol = alice_prepare_qubit(alice_bits, alice_bases)\n",
        "# Ataque!\n",
        "eve_bases = randint(2, size=n)\n",
        "intercepted_qubits = measure_qubit(protocol, eve_bases)\n",
        "# Paso 3\n",
        "bob_bases = randint(2, size=n)\n",
        "bob_results = measure_qubit(protocol, bob_bases)\n",
        "# Paso 4\n",
        "bob_key = remove_garbage(alice_bases, bob_bases, bob_results)\n",
        "alice_key = remove_garbage(alice_bases, bob_bases, alice_bits)\n",
        "# Step 5\n",
        "sample_size = 10 # Cambia esto a algo más bajo y mira si Eve\n",
        "                 # puede interceptar el mensaje sin que Alice\n",
        "                 # y Bob lo sepan\n",
        "bit_selection = randint(n, size=sample_size)\n",
        "bob_sample = sample_bits(bob_key, bit_selection)\n",
        "alice_sample = sample_bits(alice_key, bit_selection)\n",
        "\n",
        "if bob_sample != alice_sample:\n",
        "    print(\"La interferencia de Eve fue detectada.\")\n",
        "else:\n",
        "    print(\"Eve no fue detectada\")"
      ]
    },
    {
      "cell_type": "code",
      "execution_count": null,
      "metadata": {},
      "outputs": [],
      "source": []
    }
  ],
  "metadata": {
    "colab": {
      "provenance": []
    },
    "kernelspec": {
      "display_name": "Python 3",
      "language": "python",
      "name": "python3"
    },
    "language_info": {
      "codemirror_mode": {
        "name": "ipython",
        "version": 3
      },
      "file_extension": ".py",
      "mimetype": "text/x-python",
      "name": "python",
      "nbconvert_exporter": "python",
      "pygments_lexer": "ipython3",
      "version": "3.11.11"
    }
  },
  "nbformat": 4,
  "nbformat_minor": 0
}
